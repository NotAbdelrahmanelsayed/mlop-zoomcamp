{
 "cells": [
  {
   "cell_type": "code",
   "execution_count": 1,
   "id": "485ce2ec",
   "metadata": {},
   "outputs": [],
   "source": [
    "import pandas as pd\n",
    "import seaborn as sns\n",
    "import matplotlib.pyplot as plt\n",
    "import sklearn\n",
    "from sklearn.feature_extraction import DictVectorizer\n",
    "from sklearn.linear_model import LinearRegression\n",
    "from sklearn.model_selection import train_test_split\n",
    "from sklearn.metrics import mean_squared_error\n",
    "import math\n"
   ]
  },
  {
   "cell_type": "code",
   "execution_count": 2,
   "id": "6669a196",
   "metadata": {},
   "outputs": [],
   "source": [
    "df_jan = pd.read_parquet('https://d37ci6vzurychx.cloudfront.net/trip-data/yellow_tripdata_2023-01.parquet') \n",
    "df_feb = pd.read_parquet('https://d37ci6vzurychx.cloudfront.net/trip-data/yellow_tripdata_2023-02.parquet')\n"
   ]
  },
  {
   "cell_type": "markdown",
   "id": "cc246306",
   "metadata": {},
   "source": [
    "lowercase the columns names"
   ]
  },
  {
   "cell_type": "code",
   "execution_count": 3,
   "id": "8b660216",
   "metadata": {},
   "outputs": [],
   "source": [
    "data = [df_jan, df_feb]\n",
    "for df in data:\n",
    "    df.columns = [col.lower().replace(' ', '_') for col in df.columns]"
   ]
  },
  {
   "cell_type": "code",
   "execution_count": 4,
   "id": "4f634a4a",
   "metadata": {},
   "outputs": [
    {
     "data": {
      "text/html": [
       "<div>\n",
       "<style scoped>\n",
       "    .dataframe tbody tr th:only-of-type {\n",
       "        vertical-align: middle;\n",
       "    }\n",
       "\n",
       "    .dataframe tbody tr th {\n",
       "        vertical-align: top;\n",
       "    }\n",
       "\n",
       "    .dataframe thead th {\n",
       "        text-align: right;\n",
       "    }\n",
       "</style>\n",
       "<table border=\"1\" class=\"dataframe\">\n",
       "  <thead>\n",
       "    <tr style=\"text-align: right;\">\n",
       "      <th></th>\n",
       "      <th>vendorid</th>\n",
       "      <th>tpep_pickup_datetime</th>\n",
       "      <th>tpep_dropoff_datetime</th>\n",
       "      <th>passenger_count</th>\n",
       "      <th>trip_distance</th>\n",
       "      <th>ratecodeid</th>\n",
       "      <th>store_and_fwd_flag</th>\n",
       "      <th>pulocationid</th>\n",
       "      <th>dolocationid</th>\n",
       "      <th>payment_type</th>\n",
       "      <th>fare_amount</th>\n",
       "      <th>extra</th>\n",
       "      <th>mta_tax</th>\n",
       "      <th>tip_amount</th>\n",
       "      <th>tolls_amount</th>\n",
       "      <th>improvement_surcharge</th>\n",
       "      <th>total_amount</th>\n",
       "      <th>congestion_surcharge</th>\n",
       "      <th>airport_fee</th>\n",
       "    </tr>\n",
       "  </thead>\n",
       "  <tbody>\n",
       "    <tr>\n",
       "      <th>0</th>\n",
       "      <td>2</td>\n",
       "      <td>2023-01-01 00:32:10</td>\n",
       "      <td>2023-01-01 00:40:36</td>\n",
       "      <td>1.0</td>\n",
       "      <td>0.97</td>\n",
       "      <td>1.0</td>\n",
       "      <td>N</td>\n",
       "      <td>161</td>\n",
       "      <td>141</td>\n",
       "      <td>2</td>\n",
       "      <td>9.3</td>\n",
       "      <td>1.00</td>\n",
       "      <td>0.5</td>\n",
       "      <td>0.00</td>\n",
       "      <td>0.0</td>\n",
       "      <td>1.0</td>\n",
       "      <td>14.30</td>\n",
       "      <td>2.5</td>\n",
       "      <td>0.00</td>\n",
       "    </tr>\n",
       "    <tr>\n",
       "      <th>1</th>\n",
       "      <td>2</td>\n",
       "      <td>2023-01-01 00:55:08</td>\n",
       "      <td>2023-01-01 01:01:27</td>\n",
       "      <td>1.0</td>\n",
       "      <td>1.10</td>\n",
       "      <td>1.0</td>\n",
       "      <td>N</td>\n",
       "      <td>43</td>\n",
       "      <td>237</td>\n",
       "      <td>1</td>\n",
       "      <td>7.9</td>\n",
       "      <td>1.00</td>\n",
       "      <td>0.5</td>\n",
       "      <td>4.00</td>\n",
       "      <td>0.0</td>\n",
       "      <td>1.0</td>\n",
       "      <td>16.90</td>\n",
       "      <td>2.5</td>\n",
       "      <td>0.00</td>\n",
       "    </tr>\n",
       "    <tr>\n",
       "      <th>2</th>\n",
       "      <td>2</td>\n",
       "      <td>2023-01-01 00:25:04</td>\n",
       "      <td>2023-01-01 00:37:49</td>\n",
       "      <td>1.0</td>\n",
       "      <td>2.51</td>\n",
       "      <td>1.0</td>\n",
       "      <td>N</td>\n",
       "      <td>48</td>\n",
       "      <td>238</td>\n",
       "      <td>1</td>\n",
       "      <td>14.9</td>\n",
       "      <td>1.00</td>\n",
       "      <td>0.5</td>\n",
       "      <td>15.00</td>\n",
       "      <td>0.0</td>\n",
       "      <td>1.0</td>\n",
       "      <td>34.90</td>\n",
       "      <td>2.5</td>\n",
       "      <td>0.00</td>\n",
       "    </tr>\n",
       "    <tr>\n",
       "      <th>3</th>\n",
       "      <td>1</td>\n",
       "      <td>2023-01-01 00:03:48</td>\n",
       "      <td>2023-01-01 00:13:25</td>\n",
       "      <td>0.0</td>\n",
       "      <td>1.90</td>\n",
       "      <td>1.0</td>\n",
       "      <td>N</td>\n",
       "      <td>138</td>\n",
       "      <td>7</td>\n",
       "      <td>1</td>\n",
       "      <td>12.1</td>\n",
       "      <td>7.25</td>\n",
       "      <td>0.5</td>\n",
       "      <td>0.00</td>\n",
       "      <td>0.0</td>\n",
       "      <td>1.0</td>\n",
       "      <td>20.85</td>\n",
       "      <td>0.0</td>\n",
       "      <td>1.25</td>\n",
       "    </tr>\n",
       "    <tr>\n",
       "      <th>4</th>\n",
       "      <td>2</td>\n",
       "      <td>2023-01-01 00:10:29</td>\n",
       "      <td>2023-01-01 00:21:19</td>\n",
       "      <td>1.0</td>\n",
       "      <td>1.43</td>\n",
       "      <td>1.0</td>\n",
       "      <td>N</td>\n",
       "      <td>107</td>\n",
       "      <td>79</td>\n",
       "      <td>1</td>\n",
       "      <td>11.4</td>\n",
       "      <td>1.00</td>\n",
       "      <td>0.5</td>\n",
       "      <td>3.28</td>\n",
       "      <td>0.0</td>\n",
       "      <td>1.0</td>\n",
       "      <td>19.68</td>\n",
       "      <td>2.5</td>\n",
       "      <td>0.00</td>\n",
       "    </tr>\n",
       "  </tbody>\n",
       "</table>\n",
       "</div>"
      ],
      "text/plain": [
       "   vendorid tpep_pickup_datetime tpep_dropoff_datetime  passenger_count  \\\n",
       "0         2  2023-01-01 00:32:10   2023-01-01 00:40:36              1.0   \n",
       "1         2  2023-01-01 00:55:08   2023-01-01 01:01:27              1.0   \n",
       "2         2  2023-01-01 00:25:04   2023-01-01 00:37:49              1.0   \n",
       "3         1  2023-01-01 00:03:48   2023-01-01 00:13:25              0.0   \n",
       "4         2  2023-01-01 00:10:29   2023-01-01 00:21:19              1.0   \n",
       "\n",
       "   trip_distance  ratecodeid store_and_fwd_flag  pulocationid  dolocationid  \\\n",
       "0           0.97         1.0                  N           161           141   \n",
       "1           1.10         1.0                  N            43           237   \n",
       "2           2.51         1.0                  N            48           238   \n",
       "3           1.90         1.0                  N           138             7   \n",
       "4           1.43         1.0                  N           107            79   \n",
       "\n",
       "   payment_type  fare_amount  extra  mta_tax  tip_amount  tolls_amount  \\\n",
       "0             2          9.3   1.00      0.5        0.00           0.0   \n",
       "1             1          7.9   1.00      0.5        4.00           0.0   \n",
       "2             1         14.9   1.00      0.5       15.00           0.0   \n",
       "3             1         12.1   7.25      0.5        0.00           0.0   \n",
       "4             1         11.4   1.00      0.5        3.28           0.0   \n",
       "\n",
       "   improvement_surcharge  total_amount  congestion_surcharge  airport_fee  \n",
       "0                    1.0         14.30                   2.5         0.00  \n",
       "1                    1.0         16.90                   2.5         0.00  \n",
       "2                    1.0         34.90                   2.5         0.00  \n",
       "3                    1.0         20.85                   0.0         1.25  \n",
       "4                    1.0         19.68                   2.5         0.00  "
      ]
     },
     "execution_count": 4,
     "metadata": {},
     "output_type": "execute_result"
    }
   ],
   "source": [
    "df_jan.head(5)"
   ]
  },
  {
   "cell_type": "code",
   "execution_count": 5,
   "id": "5abc98ee",
   "metadata": {},
   "outputs": [
    {
     "name": "stdout",
     "output_type": "stream",
     "text": [
      "How many columns are there?\n",
      "19\n"
     ]
    }
   ],
   "source": [
    "print('How many columns are there?')\n",
    "print(df_jan.shape[-1])"
   ]
  },
  {
   "cell_type": "markdown",
   "id": "8401e47e",
   "metadata": {},
   "source": [
    "**Creating a duration vriable** Contain the duration of ride in minutes"
   ]
  },
  {
   "cell_type": "code",
   "execution_count": 6,
   "id": "a7dd1bfa",
   "metadata": {},
   "outputs": [
    {
     "data": {
      "text/html": [
       "<div>\n",
       "<style scoped>\n",
       "    .dataframe tbody tr th:only-of-type {\n",
       "        vertical-align: middle;\n",
       "    }\n",
       "\n",
       "    .dataframe tbody tr th {\n",
       "        vertical-align: top;\n",
       "    }\n",
       "\n",
       "    .dataframe thead th {\n",
       "        text-align: right;\n",
       "    }\n",
       "</style>\n",
       "<table border=\"1\" class=\"dataframe\">\n",
       "  <thead>\n",
       "    <tr style=\"text-align: right;\">\n",
       "      <th></th>\n",
       "      <th>vendorid</th>\n",
       "      <th>tpep_pickup_datetime</th>\n",
       "      <th>tpep_dropoff_datetime</th>\n",
       "      <th>passenger_count</th>\n",
       "      <th>trip_distance</th>\n",
       "      <th>ratecodeid</th>\n",
       "      <th>store_and_fwd_flag</th>\n",
       "      <th>pulocationid</th>\n",
       "      <th>dolocationid</th>\n",
       "      <th>payment_type</th>\n",
       "      <th>fare_amount</th>\n",
       "      <th>extra</th>\n",
       "      <th>mta_tax</th>\n",
       "      <th>tip_amount</th>\n",
       "      <th>tolls_amount</th>\n",
       "      <th>improvement_surcharge</th>\n",
       "      <th>total_amount</th>\n",
       "      <th>congestion_surcharge</th>\n",
       "      <th>airport_fee</th>\n",
       "      <th>duration</th>\n",
       "    </tr>\n",
       "  </thead>\n",
       "  <tbody>\n",
       "    <tr>\n",
       "      <th>0</th>\n",
       "      <td>2</td>\n",
       "      <td>2023-01-01 00:32:10</td>\n",
       "      <td>2023-01-01 00:40:36</td>\n",
       "      <td>1.0</td>\n",
       "      <td>0.97</td>\n",
       "      <td>1.0</td>\n",
       "      <td>N</td>\n",
       "      <td>161</td>\n",
       "      <td>141</td>\n",
       "      <td>2</td>\n",
       "      <td>9.3</td>\n",
       "      <td>1.0</td>\n",
       "      <td>0.5</td>\n",
       "      <td>0.0</td>\n",
       "      <td>0.0</td>\n",
       "      <td>1.0</td>\n",
       "      <td>14.3</td>\n",
       "      <td>2.5</td>\n",
       "      <td>0.0</td>\n",
       "      <td>8.433333</td>\n",
       "    </tr>\n",
       "    <tr>\n",
       "      <th>1</th>\n",
       "      <td>2</td>\n",
       "      <td>2023-01-01 00:55:08</td>\n",
       "      <td>2023-01-01 01:01:27</td>\n",
       "      <td>1.0</td>\n",
       "      <td>1.10</td>\n",
       "      <td>1.0</td>\n",
       "      <td>N</td>\n",
       "      <td>43</td>\n",
       "      <td>237</td>\n",
       "      <td>1</td>\n",
       "      <td>7.9</td>\n",
       "      <td>1.0</td>\n",
       "      <td>0.5</td>\n",
       "      <td>4.0</td>\n",
       "      <td>0.0</td>\n",
       "      <td>1.0</td>\n",
       "      <td>16.9</td>\n",
       "      <td>2.5</td>\n",
       "      <td>0.0</td>\n",
       "      <td>6.316667</td>\n",
       "    </tr>\n",
       "  </tbody>\n",
       "</table>\n",
       "</div>"
      ],
      "text/plain": [
       "   vendorid tpep_pickup_datetime tpep_dropoff_datetime  passenger_count  \\\n",
       "0         2  2023-01-01 00:32:10   2023-01-01 00:40:36              1.0   \n",
       "1         2  2023-01-01 00:55:08   2023-01-01 01:01:27              1.0   \n",
       "\n",
       "   trip_distance  ratecodeid store_and_fwd_flag  pulocationid  dolocationid  \\\n",
       "0           0.97         1.0                  N           161           141   \n",
       "1           1.10         1.0                  N            43           237   \n",
       "\n",
       "   payment_type  fare_amount  extra  mta_tax  tip_amount  tolls_amount  \\\n",
       "0             2          9.3    1.0      0.5         0.0           0.0   \n",
       "1             1          7.9    1.0      0.5         4.0           0.0   \n",
       "\n",
       "   improvement_surcharge  total_amount  congestion_surcharge  airport_fee  \\\n",
       "0                    1.0          14.3                   2.5          0.0   \n",
       "1                    1.0          16.9                   2.5          0.0   \n",
       "\n",
       "   duration  \n",
       "0  8.433333  \n",
       "1  6.316667  "
      ]
     },
     "execution_count": 6,
     "metadata": {},
     "output_type": "execute_result"
    }
   ],
   "source": [
    "def get_duration(df):\n",
    "    \"\"\"\n",
    "    calculate the duration of the trip\n",
    "    \n",
    "    (drop date - pickup date) / convert the diffrence to minutes representations using pd.Timedelta\n",
    "    \n",
    "    \"\"\"\n",
    "    \n",
    "    df['duration'] = (df['tpep_dropoff_datetime'] - df['tpep_pickup_datetime']) / pd.Timedelta(minutes=1)\n",
    "    return df\n",
    "\n",
    "df_jan = get_duration(df_jan)\n",
    "df_jan.head(2)"
   ]
  },
  {
   "cell_type": "code",
   "execution_count": 7,
   "id": "0bb10231",
   "metadata": {},
   "outputs": [
    {
     "name": "stdout",
     "output_type": "stream",
     "text": [
      "the standard deviation of the trips duration in January?\n"
     ]
    },
    {
     "data": {
      "text/plain": [
       "42.59"
      ]
     },
     "execution_count": 7,
     "metadata": {},
     "output_type": "execute_result"
    }
   ],
   "source": [
    "print('the standard deviation of the trips duration in January?')\n",
    "df_jan = get_duration(df_jan)\n",
    "round(df_jan.duration.std(), 2)"
   ]
  },
  {
   "cell_type": "markdown",
   "id": "209d2a6c",
   "metadata": {},
   "source": [
    "**Checking the destribution of the data**"
   ]
  },
  {
   "cell_type": "code",
   "execution_count": 8,
   "id": "5130f312",
   "metadata": {},
   "outputs": [
    {
     "data": {
      "image/png": "[encoded data removed]",
      "text/plain": [
       "<Figure size 720x432 with 1 Axes>"
      ]
     },
     "metadata": {
      "needs_background": "light"
     },
     "output_type": "display_data"
    }
   ],
   "source": [
    "def plot_duration(df):\n",
    "    plt.figure(figsize=(10, 6))\n",
    "    sns.histplot(df['duration'], bins=30, kde=True)\n",
    "    plt.show()\n",
    "plot_duration(df_jan)"
   ]
  },
  {
   "cell_type": "markdown",
   "id": "3e79aa7b",
   "metadata": {},
   "source": [
    "Looks like we have an extreme outliers. Let's detect them."
   ]
  },
  {
   "cell_type": "code",
   "execution_count": 9,
   "id": "d82d2abf",
   "metadata": {},
   "outputs": [
    {
     "name": "stdout",
     "output_type": "stream",
     "text": [
      "count    3066766.00\n",
      "mean          15.67\n",
      "std           42.59\n",
      "min          -29.20\n",
      "25%            7.12\n",
      "50%           11.52\n",
      "75%           18.30\n",
      "90%           27.94\n",
      "95%           36.47\n",
      "99%           57.25\n",
      "max        10029.18\n",
      "Name: duration, dtype: object\n"
     ]
    }
   ],
   "source": [
    "def describe_duration(df):\n",
    "    \"\"\"\n",
    "    Applying simple pd.describe at duration\n",
    "    percentiles parameter by default will print(25%, 50%, 75%) but we can add more!\n",
    "    .apply(lambda x:f'{x:.2f}') --> this format the output from describe (5.980721e+06 -> 15.84) to be human readable\n",
    "    \n",
    "    better way you can use -> pd.set_option('display.float_format', lambda x: '%.2f' % x)\n",
    "    \"\"\"\n",
    "    print(df.duration.describe(percentiles=[.25, .75, .90, .95, .99]).apply(lambda x:f'{x:.2f}'))\n",
    "    \n",
    "describe_duration(df_jan)"
   ]
  },
  {
   "cell_type": "markdown",
   "id": "e5e36ae4",
   "metadata": {},
   "source": [
    "Now we can filter the data by removing the values above .99 percentile, below 0.1 to exclude the negatives and extremly high durations"
   ]
  },
  {
   "cell_type": "code",
   "execution_count": 10,
   "id": "244f1b51",
   "metadata": {},
   "outputs": [
    {
     "name": "stdout",
     "output_type": "stream",
     "text": [
      "count    3005317.00\n",
      "mean          14.10\n",
      "std            9.74\n",
      "min            0.80\n",
      "25%            7.20\n",
      "50%           11.52\n",
      "75%           18.12\n",
      "90%           27.05\n",
      "95%           34.32\n",
      "99%           48.85\n",
      "max           57.23\n",
      "Name: duration, dtype: object\n"
     ]
    }
   ],
   "source": [
    "p_99 = df_jan['duration'].quantile(.99)\n",
    "p_01 = df_jan['duration'].quantile(.01)\n",
    "df_filtered = df_jan[(p_01 < df_jan['duration']) & (p_99 > df_jan['duration'])]\n",
    "describe_duration(df_filtered)"
   ]
  },
  {
   "cell_type": "markdown",
   "id": "b5a56e7f",
   "metadata": {},
   "source": [
    "Sounds good! Let's check plot the distribution of df_filtered\n"
   ]
  },
  {
   "cell_type": "code",
   "execution_count": 11,
   "id": "97cab9ea",
   "metadata": {},
   "outputs": [
    {
     "data": {
      "image/png": "[encoded data removed]",
      "text/plain": [
       "<Figure size 720x432 with 1 Axes>"
      ]
     },
     "metadata": {
      "needs_background": "light"
     },
     "output_type": "display_data"
    }
   ],
   "source": [
    "plot_duration(df_filtered)"
   ]
  },
  {
   "cell_type": "markdown",
   "id": "721784f6",
   "metadata": {},
   "source": [
    "now we can confidently go throught the modeling part\\\n",
    "I will use linear regression for simplicity"
   ]
  },
  {
   "cell_type": "code",
   "execution_count": 12,
   "id": "7f1a9ecb",
   "metadata": {},
   "outputs": [
    {
     "data": {
      "text/html": [
       "<div>\n",
       "<style scoped>\n",
       "    .dataframe tbody tr th:only-of-type {\n",
       "        vertical-align: middle;\n",
       "    }\n",
       "\n",
       "    .dataframe tbody tr th {\n",
       "        vertical-align: top;\n",
       "    }\n",
       "\n",
       "    .dataframe thead th {\n",
       "        text-align: right;\n",
       "    }\n",
       "</style>\n",
       "<table border=\"1\" class=\"dataframe\">\n",
       "  <thead>\n",
       "    <tr style=\"text-align: right;\">\n",
       "      <th></th>\n",
       "      <th>vendorid</th>\n",
       "      <th>tpep_pickup_datetime</th>\n",
       "      <th>tpep_dropoff_datetime</th>\n",
       "      <th>passenger_count</th>\n",
       "      <th>trip_distance</th>\n",
       "      <th>ratecodeid</th>\n",
       "      <th>store_and_fwd_flag</th>\n",
       "      <th>pulocationid</th>\n",
       "      <th>dolocationid</th>\n",
       "      <th>payment_type</th>\n",
       "      <th>fare_amount</th>\n",
       "      <th>extra</th>\n",
       "      <th>mta_tax</th>\n",
       "      <th>tip_amount</th>\n",
       "      <th>tolls_amount</th>\n",
       "      <th>improvement_surcharge</th>\n",
       "      <th>total_amount</th>\n",
       "      <th>congestion_surcharge</th>\n",
       "      <th>airport_fee</th>\n",
       "      <th>duration</th>\n",
       "    </tr>\n",
       "  </thead>\n",
       "  <tbody>\n",
       "    <tr>\n",
       "      <th>0</th>\n",
       "      <td>2</td>\n",
       "      <td>2023-01-01 00:32:10</td>\n",
       "      <td>2023-01-01 00:40:36</td>\n",
       "      <td>1.0</td>\n",
       "      <td>0.97</td>\n",
       "      <td>1.0</td>\n",
       "      <td>N</td>\n",
       "      <td>161</td>\n",
       "      <td>141</td>\n",
       "      <td>2</td>\n",
       "      <td>9.3</td>\n",
       "      <td>1.0</td>\n",
       "      <td>0.5</td>\n",
       "      <td>0.0</td>\n",
       "      <td>0.0</td>\n",
       "      <td>1.0</td>\n",
       "      <td>14.3</td>\n",
       "      <td>2.5</td>\n",
       "      <td>0.0</td>\n",
       "      <td>8.433333</td>\n",
       "    </tr>\n",
       "  </tbody>\n",
       "</table>\n",
       "</div>"
      ],
      "text/plain": [
       "   vendorid tpep_pickup_datetime tpep_dropoff_datetime  passenger_count  \\\n",
       "0         2  2023-01-01 00:32:10   2023-01-01 00:40:36              1.0   \n",
       "\n",
       "   trip_distance  ratecodeid store_and_fwd_flag  pulocationid  dolocationid  \\\n",
       "0           0.97         1.0                  N           161           141   \n",
       "\n",
       "   payment_type  fare_amount  extra  mta_tax  tip_amount  tolls_amount  \\\n",
       "0             2          9.3    1.0      0.5         0.0           0.0   \n",
       "\n",
       "   improvement_surcharge  total_amount  congestion_surcharge  airport_fee  \\\n",
       "0                    1.0          14.3                   2.5          0.0   \n",
       "\n",
       "   duration  \n",
       "0  8.433333  "
      ]
     },
     "execution_count": 12,
     "metadata": {},
     "output_type": "execute_result"
    }
   ],
   "source": [
    "df_filtered.head(1)"
   ]
  },
  {
   "cell_type": "markdown",
   "id": "f247d036",
   "metadata": {},
   "source": [
    "I will split the data 50/50 to save time in training."
   ]
  },
  {
   "cell_type": "code",
   "execution_count": 13,
   "id": "0f9bf93d",
   "metadata": {},
   "outputs": [],
   "source": [
    "def prepare_data(df, split):\n",
    "    # Split the data for training\n",
    "    y = df['duration']\n",
    "\n",
    "    # Just keep pickup location and dropup location to be our training features.\n",
    "    df = df[['pulocationid', 'dolocationid']]\n",
    "    if split:\n",
    "        X_train, X_test, y_train, y_test = train_test_split(df, y, test_size=.5)\n",
    "        return X_train, X_test, y_train, y_test\n",
    "    else:\n",
    "        return df, y\n",
    "    \n",
    "X_train, X_test, y_train, y_test = prepare_data(df_filtered, split=True)"
   ]
  },
  {
   "cell_type": "code",
   "execution_count": 14,
   "id": "26fcaf77",
   "metadata": {},
   "outputs": [],
   "source": [
    "\n",
    "def train(df_train, y_train):\n",
    "    # Converting the dataframe into a list of dictionaries each dictionary each dictionary correspond to a row in the dataframe\n",
    "    # At index i in dicts list there will be dictionary\n",
    "    # Each dictionary have keys and values {key:value} where (key = column name, value = the value of this column at index i)\n",
    "    dicts = df_train.to_dict(orient='records')\n",
    "    \n",
    "    # Dict vectorizer as the name suggests converting the dict into vector. keeping the values only.\n",
    "    dv = DictVectorizer(sparse=False)\n",
    "\n",
    "    # transform the dicts into vectors using dv\n",
    "    X_train = dv.fit_transform(dicts)\n",
    "\n",
    "    # Train the model \n",
    "    model = LinearRegression()\n",
    "    model.fit(X_train, y_train)\n",
    "    \n",
    "    # Return the vectorizer and the trained model\n",
    "    return dv, model\n"
   ]
  },
  {
   "cell_type": "code",
   "execution_count": 15,
   "id": "9656f1ac",
   "metadata": {},
   "outputs": [],
   "source": [
    "# Train the model on the test set.\n",
    "dv, model = train(X_test, y_test)"
   ]
  },
  {
   "cell_type": "code",
   "execution_count": 16,
   "id": "14aa6a38",
   "metadata": {},
   "outputs": [],
   "source": [
    "def test(X_test, y_test):\n",
    "    '''\n",
    "    Predict the test set and evaluate it with RMSE\n",
    "    \n",
    "    I used mean squared error from sklearn because RMSE wasn't work with me\n",
    "    so simply take the sqrt of MSE you will get RMSE.\n",
    "    '''\n",
    "    X_test = X_test.to_dict(orient='records')\n",
    "    y_pred = model.predict(dv.transform(X_test))\n",
    "    return math.sqrt(mean_squared_error(y_pred, y_test))\n",
    "    "
   ]
  },
  {
   "cell_type": "code",
   "execution_count": 17,
   "id": "d472bccb",
   "metadata": {},
   "outputs": [],
   "source": [
    "rmse_dfjan = test(X_test, y_test)"
   ]
  },
  {
   "cell_type": "code",
   "execution_count": 18,
   "id": "a2f3cbe6",
   "metadata": {},
   "outputs": [
    {
     "name": "stdout",
     "output_type": "stream",
     "text": [
      "RMSE for jan on the training data\n"
     ]
    },
    {
     "data": {
      "text/plain": [
       "9.645322906799143"
      ]
     },
     "execution_count": 18,
     "metadata": {},
     "output_type": "execute_result"
    }
   ],
   "source": [
    "print('RMSE for jan on the training data')\n",
    "rmse_dfjan"
   ]
  },
  {
   "cell_type": "markdown",
   "id": "7c6d5133",
   "metadata": {},
   "source": [
    "**Evaluate the model on feb. data**"
   ]
  },
  {
   "cell_type": "code",
   "execution_count": 19,
   "id": "340e4581",
   "metadata": {},
   "outputs": [
    {
     "data": {
      "text/plain": [
       "42.590314088959765"
      ]
     },
     "execution_count": 19,
     "metadata": {},
     "output_type": "execute_result"
    }
   ],
   "source": [
    "X, y = prepare_data(df_jan, split=False)\n",
    "test(X, y)"
   ]
  }
 ],
 "metadata": {
  "kernelspec": {
   "display_name": "Python 3 (ipykernel)",
   "language": "python",
   "name": "python3"
  },
  "language_info": {
   "codemirror_mode": {
    "name": "ipython",
    "version": 3
   },
   "file_extension": ".py",
   "mimetype": "text/x-python",
   "name": "python",
   "nbconvert_exporter": "python",
   "pygments_lexer": "ipython3",
   "version": "3.9.12"
  }
 },
 "nbformat": 4,
 "nbformat_minor": 5
}
