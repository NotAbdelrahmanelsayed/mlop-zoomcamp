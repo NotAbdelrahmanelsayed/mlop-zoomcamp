{
 "cells": [
  {
   "cell_type": "code",
   "execution_count": 1,
   "id": "485ce2ec",
   "metadata": {},
   "outputs": [],
   "source": [
    "import pandas as pd\n",
    "import seaborn as sns\n",
    "import matplotlib.pyplot as plt\n",
    "import sklearn"
   ]
  },
  {
   "cell_type": "code",
   "execution_count": 2,
   "id": "6669a196",
   "metadata": {},
   "outputs": [],
   "source": [
    "df_jan = pd.read_parquet('https://d37ci6vzurychx.cloudfront.net/trip-data/yellow_tripdata_2023-01.parquet') \n",
    "df_feb = pd.read_parquet('https://d37ci6vzurychx.cloudfront.net/trip-data/yellow_tripdata_2023-02.parquet')\n"
   ]
  },
  {
   "cell_type": "markdown",
   "id": "fd9aa7db",
   "metadata": {},
   "source": [
    "lowercase the columns names"
   ]
  },
  {
   "cell_type": "code",
   "execution_count": 3,
   "id": "59088309",
   "metadata": {},
   "outputs": [
    {
     "ename": "AttributeError",
     "evalue": "'Index' object has no attribute 'lower'",
     "output_type": "error",
     "traceback": [
      "\u001b[0;31m---------------------------------------------------------------------------\u001b[0m",
      "\u001b[0;31mAttributeError\u001b[0m                            Traceback (most recent call last)",
      "Input \u001b[0;32mIn [3]\u001b[0m, in \u001b[0;36m<cell line: 2>\u001b[0;34m()\u001b[0m\n\u001b[1;32m      1\u001b[0m data \u001b[38;5;241m=\u001b[39m [df_jan, df_feb]\n\u001b[1;32m      2\u001b[0m \u001b[38;5;28;01mfor\u001b[39;00m df \u001b[38;5;129;01min\u001b[39;00m data:\n\u001b[0;32m----> 3\u001b[0m     df\u001b[38;5;241m.\u001b[39mcolumns \u001b[38;5;241m=\u001b[39m \u001b[43mdf\u001b[49m\u001b[38;5;241;43m.\u001b[39;49m\u001b[43mcolumns\u001b[49m\u001b[38;5;241;43m.\u001b[39;49m\u001b[43mstr\u001b[49m\u001b[38;5;241;43m.\u001b[39;49m\u001b[43mreplace\u001b[49m\u001b[43m(\u001b[49m\u001b[38;5;124;43m'\u001b[39;49m\u001b[38;5;124;43m \u001b[39;49m\u001b[38;5;124;43m'\u001b[39;49m\u001b[43m,\u001b[49m\u001b[43m \u001b[49m\u001b[38;5;124;43m'\u001b[39;49m\u001b[38;5;124;43m_\u001b[39;49m\u001b[38;5;124;43m'\u001b[39;49m\u001b[43m)\u001b[49m\u001b[38;5;241;43m.\u001b[39;49m\u001b[43mlower\u001b[49m()\n",
      "\u001b[0;31mAttributeError\u001b[0m: 'Index' object has no attribute 'lower'"
     ]
    }
   ],
   "source": [
    "data = [df_jan, df_feb]\n",
    "for df in data:\n",
    "    df.columns = df.columns.str.replace(' ', '_').lower()"
   ]
  },
  {
   "cell_type": "markdown",
   "id": "d9d7210b",
   "metadata": {},
   "source": [
    "Merge the data of column february and january"
   ]
  },
  {
   "cell_type": "code",
   "execution_count": null,
   "id": "4f634a4a",
   "metadata": {},
   "outputs": [],
   "source": [
    "df = pd.concat([df_jan, df_feb], ignore_index=True) # merge \n",
    "data.append(df) # In case if we wanted to apply changes on each dataframe alone.\n",
    "df.head(5)"
   ]
  },
  {
   "cell_type": "code",
   "execution_count": null,
   "id": "daa651eb",
   "metadata": {},
   "outputs": [],
   "source": [
    "print('How many columns are there?')\n",
    "print(df.shape[-1])"
   ]
  },
  {
   "cell_type": "markdown",
   "id": "c55e455a",
   "metadata": {},
   "source": [
    "**Creating a duration vriable** Contain the duration of ride in minutes"
   ]
  },
  {
   "cell_type": "code",
   "execution_count": null,
   "id": "7e0a6add",
   "metadata": {},
   "outputs": [],
   "source": [
    "def get_duration(df):\n",
    "    \"\"\"\n",
    "    calculate the duration of the trip\n",
    "    \n",
    "    (drop date - pickup date) / convert the diffrence to minutes representations using pd.Timedelta\n",
    "    \n",
    "    \"\"\"\n",
    "    \n",
    "    df['duration'] = (df['tpep_dropoff_datetime'] - df['tpep_pickup_datetime']) / pd.Timedelta(minutes=1)\n",
    "    return df\n",
    "\n",
    "df = get_duration(df)\n",
    "df.head(2)"
   ]
  },
  {
   "cell_type": "code",
   "execution_count": null,
   "id": "0bb10231",
   "metadata": {},
   "outputs": [],
   "source": [
    "print('the standard deviation of the trips duration in January?')\n",
    "df_jan = get_duration(df_jan)\n",
    "round(df_jan.duration.std(), 2)"
   ]
  },
  {
   "cell_type": "markdown",
   "id": "338ce415",
   "metadata": {},
   "source": [
    "**Checking the destribution of the data**"
   ]
  },
  {
   "cell_type": "code",
   "execution_count": null,
   "id": "29962378",
   "metadata": {},
   "outputs": [],
   "source": [
    "def plot_duration(df):\n",
    "    plt.figure(figsize=(10, 6))\n",
    "    sns.histplot(df['duration'], bins=30, kde=True)\n",
    "    plt.show()\n",
    "plot_duration(df)"
   ]
  },
  {
   "cell_type": "markdown",
   "id": "6bb55d03",
   "metadata": {},
   "source": [
    "Looks like we have an extreme outliers. Let's detect them."
   ]
  },
  {
   "cell_type": "code",
   "execution_count": null,
   "id": "3101d051",
   "metadata": {},
   "outputs": [],
   "source": [
    "def describe_duration(df):\n",
    "    \"\"\"\n",
    "    Applying simple pd.describe at duration\n",
    "    percentiles parameter by default will print(25%, 50%, 75%) but we can add more!\n",
    "    .apply(lambda x:f'{x:.2f}') --> this format the output from describe (5.980721e+06 -> 15.84) to be human readable\n",
    "    \n",
    "    better way you can use -> pd.set_option('display.float_format', lambda x: '%.2f' % x)\n",
    "    \"\"\"\n",
    "    print(df.duration.describe(percentiles=[.25, .75, .90, .95, .99]).apply(lambda x:f'{x:.2f}'))\n",
    "describe_duration(df)"
   ]
  },
  {
   "cell_type": "markdown",
   "id": "6aca223a",
   "metadata": {},
   "source": [
    "Now we can filter the data by removing the values above .99 percentile, below 0.1 to exclude the negatives and extremly high durations"
   ]
  },
  {
   "cell_type": "code",
   "execution_count": null,
   "id": "1a2fb69f",
   "metadata": {},
   "outputs": [],
   "source": [
    "p_99 = df['duration'].quantile(.99)\n",
    "p_01 = df['duration'].quantile(.01)\n",
    "df_filtered = df[(p_01 < df['duration']) & (p_99 > df['duration'])]\n",
    "describe_duration(df_filtered)"
   ]
  },
  {
   "cell_type": "markdown",
   "id": "d3a8c291",
   "metadata": {},
   "source": [
    "Sounds good! Let's check plot the distribution of df_filtered\n"
   ]
  },
  {
   "cell_type": "code",
   "execution_count": null,
   "id": "64e120f2",
   "metadata": {},
   "outputs": [],
   "source": [
    "plot_duration(df_filtered)"
   ]
  },
  {
   "cell_type": "markdown",
   "id": "1e04e0c4",
   "metadata": {},
   "source": [
    "now we can confidently go throught the modeling part\\\n",
    "I will use linear regression for simplicity"
   ]
  },
  {
   "cell_type": "code",
   "execution_count": null,
   "id": "44d517a2",
   "metadata": {},
   "outputs": [],
   "source": [
    "df_filtered"
   ]
  }
 ],
 "metadata": {
  "kernelspec": {
   "display_name": "Python 3 (ipykernel)",
   "language": "python",
   "name": "python3"
  },
  "language_info": {
   "codemirror_mode": {
    "name": "ipython",
    "version": 3
   },
   "file_extension": ".py",
   "mimetype": "text/x-python",
   "name": "python",
   "nbconvert_exporter": "python",
   "pygments_lexer": "ipython3",
   "version": "3.9.12"
  }
 },
 "nbformat": 4,
 "nbformat_minor": 5
}
